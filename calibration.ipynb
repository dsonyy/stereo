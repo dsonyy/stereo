{
 "cells": [
  {
   "cell_type": "markdown",
   "metadata": {},
   "source": [
    "# Calibration"
   ]
  },
  {
   "cell_type": "markdown",
   "metadata": {},
   "source": [
    "### Notebook preparation"
   ]
  },
  {
   "cell_type": "code",
   "execution_count": 1,
   "metadata": {},
   "outputs": [],
   "source": [
    "import stereo as st\n",
    "import cv2 as cv\n",
    "import os\n",
    "import copy\n",
    "import PIL.Image\n",
    "from IPython.display import display, clear_output\n",
    "import ipywidgets"
   ]
  },
  {
   "cell_type": "code",
   "execution_count": null,
   "metadata": {},
   "outputs": [],
   "source": [
    "def save(_=None):\n",
    "    images.append(copy.deepcopy(cameras.frames))\n",
    "    clear_output()\n",
    "    create_button()\n",
    "    for frame in images[-1]:\n",
    "        size = frame.shape[1] // 4, frame.shape[0] // 4\n",
    "        display(PIL.Image.fromarray(frame).resize(size))\n",
    "    print(\"Saved images:\", len(images))\n",
    "\n",
    "def create_button():\n",
    "    button = ipywidgets.Button(description=\"Capture\")\n",
    "    button.on_click(save)\n",
    "    display(button)"
   ]
  },
  {
   "cell_type": "markdown",
   "metadata": {},
   "source": [
    "Run one of the following cell depending on what type of cameras you are using:\n",
    "\n",
    "### USB Cameras"
   ]
  },
  {
   "cell_type": "code",
   "execution_count": null,
   "metadata": {},
   "outputs": [],
   "source": [
    "cameras = st.Cameras([0, 1])\n",
    "stream = st.NStream(cameras, sep_thread=True)"
   ]
  },
  {
   "cell_type": "markdown",
   "metadata": {},
   "source": [
    "### CSI Cameras"
   ]
  },
  {
   "cell_type": "code",
   "execution_count": null,
   "metadata": {},
   "outputs": [],
   "source": [
    "cameras = st.Cameras([0, 1])\n",
    "cameras.to_csi_device()\n",
    "stream = st.NStream(cameras, sep_thread=True)"
   ]
  },
  {
   "cell_type": "markdown",
   "metadata": {},
   "source": [
    "### Start stream"
   ]
  },
  {
   "cell_type": "code",
   "execution_count": null,
   "metadata": {},
   "outputs": [],
   "source": [
    "stream.start()"
   ]
  },
  {
   "cell_type": "code",
   "execution_count": null,
   "metadata": {},
   "outputs": [],
   "source": [
    "create_button()"
   ]
  },
  {
   "cell_type": "markdown",
   "metadata": {},
   "source": [
    "### Stop stream"
   ]
  },
  {
   "cell_type": "code",
   "execution_count": null,
   "metadata": {},
   "outputs": [],
   "source": [
    "stream.stop()"
   ]
  },
  {
   "cell_type": "markdown",
   "metadata": {},
   "source": [
    "### Directories"
   ]
  },
  {
   "cell_type": "code",
   "execution_count": null,
   "metadata": {},
   "outputs": [],
   "source": [
    "PATH = \"calibration-images\"\n",
    "\n",
    "def listrec(path, level=0):\n",
    "    files = [item for item in os.listdir(path) if os.path.isfile(os.path.join(path, item))]\n",
    "    dirs = [item for item in os.listdir(path) if os.path.isdir(os.path.join(path, item))]\n",
    "    if level != 0 != len(files):\n",
    "        print(\"  \" * (level + 1), len(files), \"files\")\n",
    "    # for file in sorted(files):\n",
    "    #     print(\"  \" * level, \"-\", file)\n",
    "    for dir_ in sorted(dirs):\n",
    "        print(\"  \" * level, \"-\", dir_)\n",
    "        listrec(os.path.join(path, dir_), level + 1)\n",
    "        \n",
    "listrec(PATH)"
   ]
  },
  {
   "cell_type": "markdown",
   "metadata": {},
   "source": [
    "### Save images"
   ]
  },
  {
   "cell_type": "code",
   "execution_count": null,
   "metadata": {},
   "outputs": [],
   "source": [
    "PATH = \"calibration-images/\"\n",
    "\n",
    "path = os.path.join(PATH)\n",
    "if not os.path.isdir(path):\n",
    "    os.mkdir(path)\n",
    "for image_idx, image_set in enumerate(images):\n",
    "    for camera_idx, image in enumerate(image_set):\n",
    "        path = os.path.join(PATH, str(camera_idx))\n",
    "        if not os.path.isdir(path):\n",
    "            os.mkdir(path)\n",
    "        cv.imwrite(os.path.join(path, str(image_idx) + \".png\"), image)"
   ]
  },
  {
   "source": [
    "## Calculations"
   ],
   "cell_type": "markdown",
   "metadata": {}
  },
  {
   "cell_type": "code",
   "execution_count": 2,
   "metadata": {},
   "outputs": [
    {
     "output_type": "stream",
     "name": "stdout",
     "text": [
      "25.10.2020 00:31:38.384 calibration WARNING: No calibration images loaded.\n",
      "25.10.2020 00:31:38.385 calibration INFO: Loading sets of corresponding left and right images from calibration-images/2cam-usb-12cm.\n",
      "25.10.2020 00:31:41.572 calibration INFO: Loaded 69 pairs.\n",
      "25.10.2020 00:31:41.573 calibration INFO: Finding chessboard patterns in the images.\n",
      "25.10.2020 00:31:46.733 calibration INFO: Found chessboard patterns in 66 pairs.\n",
      "25.10.2020 00:31:46.737 calibration INFO: Calibrating left camera.\n",
      "25.10.2020 00:32:15.995 calibration INFO: Calibrating right camera.\n",
      "25.10.2020 00:32:52.669 calibration INFO: Calibrating both cameras.\n",
      "25.10.2020 00:33:17.415 calibration INFO: Rectifying cameras.\n",
      "25.10.2020 00:33:17.422 calibration INFO: Calibration finished. Re-projection errors: 0.08091512600661585, 0.07845044548767086.\n",
      "25.10.2020 00:33:17.423 calibration INFO: Saving important calibration parameters to calibrated/2cam-usb-12cm.json.\n"
     ]
    },
    {
     "output_type": "execute_result",
     "data": {
      "text/plain": [
       "{'calibrated': True,\n",
       " 'left_matrix': [[1112.326480669867, 0.0, 645.9737002054081],\n",
       "  [0.0, 1125.8813880318653, 536.7191465845921],\n",
       "  [0.0, 0.0, 1.0]],\n",
       " 'left_dist_coeff': [[-0.05572367508263621,\n",
       "   0.22905628165257952,\n",
       "   0.004628259609658588,\n",
       "   -0.0011315383455992646,\n",
       "   -0.3274515641555708]],\n",
       " 'left_rectif': [[0.998355195399547,\n",
       "   0.05331399024285445,\n",
       "   -0.02108369661888143],\n",
       "  [-0.05342722008963288, 0.99855999817997, -0.00484377830958407],\n",
       "  [0.020795094907841576, 0.005962254540296891, 0.9997659803916967]],\n",
       " 'left_proj': [[1158.3246791983609, 0.0, 640.6307144165039, 0.0],\n",
       "  [0.0, 1158.3246791983609, 545.934986114502, 0.0],\n",
       "  [0.0, 0.0, 1.0, 0.0]],\n",
       " 'left_roi': (0, 2, 1257, 1000),\n",
       " 'left_reprojection_error': 0.08091512600661585,\n",
       " 'right_matrix': [[1105.6700431472696, 0.0, 642.2089872857528],\n",
       "  [0.0, 1116.9408794224498, 543.6578938435572],\n",
       "  [0.0, 0.0, 1.0]],\n",
       " 'right_dist_coeff': [[-0.07887818155720518,\n",
       "   0.2667745893718477,\n",
       "   0.00201264682142037,\n",
       "   0.000314636538637476,\n",
       "   -0.35180401173437625]],\n",
       " 'right_rectif': [[0.9995864286765804,\n",
       "   -0.011756019570985732,\n",
       "   0.026244382435982126],\n",
       "  [0.01161397595586162, 0.9999171073807377, 0.005558230818798876],\n",
       "  [-0.026307549640666932, -0.005251130467335371, 0.9996401044679625]],\n",
       " 'right_proj': [[1158.3246791983609,\n",
       "   0.0,\n",
       "   640.6307144165039,\n",
       "   7385.954989025358],\n",
       "  [0.0, 1158.3246791983609, 545.934986114502, 0.0],\n",
       "  [0.0, 0.0, 1.0, 0.0]],\n",
       " 'right_roi': (4, 0, 1276, 1024),\n",
       " 'right_reprojection_error': 0.07845044548767086,\n",
       " 'both_rot_matrix': [[0.9967747338790629,\n",
       "   0.06473234060741176,\n",
       "   -0.04743262568959628],\n",
       "  [-0.06526867233977443, 0.9978191560370572, -0.009845418045872849],\n",
       "  [0.04669186557984679, 0.012909528456952507, 0.9988259176471607]],\n",
       " 'both_trans_vec': [[6.373774557713212],\n",
       "  [-0.07496122025259425],\n",
       "  [0.16734498614074395]],\n",
       " 'width': 1280,\n",
       " 'height': 1024}"
      ]
     },
     "metadata": {},
     "execution_count": 2
    }
   ],
   "source": [
    "name = \"2cam-usb-12cm\"\n",
    "calib = st.Calibration2Cams()\n",
    "calib.calibration_path = \"calibration-images/\" + name\n",
    "calib.calibrate()\n",
    "calib.save(\"calibrated/\" + name + \".json\", format=\"json\")"
   ]
  }
 ],
 "metadata": {
  "kernelspec": {
   "display_name": "Python 3",
   "language": "python",
   "name": "python3"
  },
  "language_info": {
   "codemirror_mode": {
    "name": "ipython",
    "version": 3
   },
   "file_extension": ".py",
   "mimetype": "text/x-python",
   "name": "python",
   "nbconvert_exporter": "python",
   "pygments_lexer": "ipython3",
   "version": "3.7.6-final"
  }
 },
 "nbformat": 4,
 "nbformat_minor": 4
}