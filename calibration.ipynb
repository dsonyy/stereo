{
 "cells": [
  {
   "cell_type": "markdown",
   "metadata": {},
   "source": [
    "# Calibration"
   ]
  },
  {
   "cell_type": "markdown",
   "metadata": {},
   "source": [
    "### Notebook preparation"
   ]
  },
  {
   "cell_type": "code",
   "execution_count": 1,
   "metadata": {},
   "outputs": [],
   "source": [
    "import stereo as st\n",
    "import cv2 as cv\n",
    "import os\n",
    "import copy\n",
    "import PIL.Image\n",
    "from IPython.display import display, clear_output\n",
    "import ipywidgets"
   ]
  },
  {
   "cell_type": "code",
   "execution_count": 2,
   "metadata": {},
   "outputs": [],
   "source": [
    "def save(_=None):\n",
    "    images.append(copy.deepcopy(cameras.frames))\n",
    "    clear_output()\n",
    "    create_button()\n",
    "    for frame in images[-1]:\n",
    "        size = frame.shape[1] // 4, frame.shape[0] // 4\n",
    "        display(PIL.Image.fromarray(frame).resize(size))\n",
    "    print(\"Saved images:\", len(images))\n",
    "\n",
    "def create_button():\n",
    "    button = ipywidgets.Button(description=\"Capture\")\n",
    "    button.on_click(save)\n",
    "    display(button)"
   ]
  },
  {
   "cell_type": "markdown",
   "metadata": {},
   "source": [
    "Run one of the following cell depending on what type of cameras you are using:\n",
    "\n",
    "### USB Cameras"
   ]
  },
  {
   "cell_type": "code",
   "execution_count": 6,
   "metadata": {},
   "outputs": [],
   "source": [
    "cameras = st.Cameras([0, 1])\n",
    "stream = st.NStream(cameras, sep_thread=True)"
   ]
  },
  {
   "cell_type": "markdown",
   "metadata": {},
   "source": [
    "### CSI Cameras"
   ]
  },
  {
   "cell_type": "code",
   "execution_count": 4,
   "metadata": {},
   "outputs": [],
   "source": [
    "cameras = st.Cameras([0, 1], transformations=[[cv.cvtColor, cv.COLOR_BGR2RGB]])\n",
    "cameras.to_csi_device()\n",
    "stream = st.NStream(cameras, sep_thread=True)"
   ]
  },
  {
   "cell_type": "markdown",
   "metadata": {},
   "source": [
    "### Start stream"
   ]
  },
  {
   "cell_type": "code",
   "execution_count": 9,
   "metadata": {},
   "outputs": [
    {
     "name": "stdout",
     "output_type": "stream",
     "text": [
      "30.01.2021 14:57:33.784 stream INFO: Starting jupyter notebook stream.\n"
     ]
    },
    {
     "data": {
      "application/vnd.jupyter.widget-view+json": {
       "model_id": "725c0b45603f471a845399695c5877de",
       "version_major": 2,
       "version_minor": 0
      },
      "text/plain": [
       "Image(value=b'', width='480')"
      ]
     },
     "metadata": {},
     "output_type": "display_data"
    },
    {
     "data": {
      "application/vnd.jupyter.widget-view+json": {
       "model_id": "b81f391990da4b229bcdf78957a33bf1",
       "version_major": 2,
       "version_minor": 0
      },
      "text/plain": [
       "Image(value=b'', width='480')"
      ]
     },
     "metadata": {},
     "output_type": "display_data"
    }
   ],
   "source": [
    "stream.start()"
   ]
  },
  {
   "cell_type": "code",
   "execution_count": 13,
   "metadata": {},
   "outputs": [
    {
     "data": {
      "application/vnd.jupyter.widget-view+json": {
       "model_id": "e4ed7be3143048bca96a099306a68262",
       "version_major": 2,
       "version_minor": 0
      },
      "text/plain": [
       "Button(description='Capture', style=ButtonStyle())"
      ]
     },
     "metadata": {},
     "output_type": "display_data"
    }
   ],
   "source": [
    "create_button()"
   ]
  },
  {
   "cell_type": "markdown",
   "metadata": {},
   "source": [
    "### Stop stream"
   ]
  },
  {
   "cell_type": "code",
   "execution_count": 10,
   "metadata": {},
   "outputs": [
    {
     "name": "stdout",
     "output_type": "stream",
     "text": [
      "30.01.2021 14:57:37.905 stream INFO: Closing jupyter notebook stream.\n"
     ]
    }
   ],
   "source": [
    "stream.stop()"
   ]
  },
  {
   "cell_type": "markdown",
   "metadata": {},
   "source": [
    "### Directories"
   ]
  },
  {
   "cell_type": "code",
   "execution_count": null,
   "metadata": {},
   "outputs": [],
   "source": [
    "PATH = \"calibration-images\"\n",
    "\n",
    "def listrec(path, level=0):\n",
    "    files = [item for item in os.listdir(path) if os.path.isfile(os.path.join(path, item))]\n",
    "    dirs = [item for item in os.listdir(path) if os.path.isdir(os.path.join(path, item))]\n",
    "    if level != 0 != len(files):\n",
    "        print(\"  \" * (level + 1), len(files), \"files\")\n",
    "    # for file in sorted(files):\n",
    "    #     print(\"  \" * level, \"-\", file)\n",
    "    for dir_ in sorted(dirs):\n",
    "        print(\"  \" * level, \"-\", dir_)\n",
    "        listrec(os.path.join(path, dir_), level + 1)\n",
    "        \n",
    "listrec(PATH)"
   ]
  },
  {
   "cell_type": "markdown",
   "metadata": {},
   "source": [
    "### Save images"
   ]
  },
  {
   "cell_type": "code",
   "execution_count": null,
   "metadata": {},
   "outputs": [],
   "source": [
    "PATH = \"calibration-images/\"\n",
    "\n",
    "path = os.path.join(PATH)\n",
    "if not os.path.isdir(path):\n",
    "    os.mkdir(path)\n",
    "for image_idx, image_set in enumerate(images):\n",
    "    for camera_idx, image in enumerate(image_set):\n",
    "        path = os.path.join(PATH, str(camera_idx))\n",
    "        if not os.path.isdir(path):\n",
    "            os.mkdir(path)\n",
    "        cv.imwrite(os.path.join(path, str(image_idx) + \".png\"), image)"
   ]
  },
  {
   "cell_type": "markdown",
   "metadata": {},
   "source": [
    "## Calculations"
   ]
  },
  {
   "cell_type": "code",
   "execution_count": 17,
   "metadata": {},
   "outputs": [
    {
     "name": "stdout",
     "output_type": "stream",
     "text": [
      "02.01.2021 17:58:31.613 calibration WARNING: No calibration images loaded.\n",
      "02.01.2021 17:58:31.616 calibration INFO: Loading sets of corresponding left and right images from calibration-images/2cam-csi-12cm.\n",
      "02.01.2021 17:58:36.658 calibration INFO: Loaded 55 pairs.\n",
      "02.01.2021 17:58:36.661 calibration INFO: Finding chessboard patterns in the images.\n",
      "02.01.2021 18:01:25.829 calibration INFO: Found chessboard patterns in 0 pairs.\n",
      "02.01.2021 18:01:25.832 calibration INFO: Calibrating left camera.\n"
     ]
    },
    {
     "ename": "error",
     "evalue": "OpenCV(4.5.0) /home/lazik/pendrive/opencv/modules/calib3d/src/calibration.cpp:3694: error: (-215:Assertion failed) nimages > 0 in function 'calibrateCameraRO'\n",
     "output_type": "error",
     "traceback": [
      "\u001b[0;31m---------------------------------------------------------------------------\u001b[0m",
      "\u001b[0;31merror\u001b[0m                                     Traceback (most recent call last)",
      "\u001b[0;32m<ipython-input-17-b70c901c99a7>\u001b[0m in \u001b[0;36m<module>\u001b[0;34m\u001b[0m\n\u001b[1;32m      2\u001b[0m \u001b[0mcalib\u001b[0m \u001b[0;34m=\u001b[0m \u001b[0mst\u001b[0m\u001b[0;34m.\u001b[0m\u001b[0mCalibration2Cams\u001b[0m\u001b[0;34m(\u001b[0m\u001b[0;34m)\u001b[0m\u001b[0;34m\u001b[0m\u001b[0;34m\u001b[0m\u001b[0m\n\u001b[1;32m      3\u001b[0m \u001b[0mcalib\u001b[0m\u001b[0;34m.\u001b[0m\u001b[0mcalibration_path\u001b[0m \u001b[0;34m=\u001b[0m \u001b[0;34m\"calibration-images/\"\u001b[0m \u001b[0;34m+\u001b[0m \u001b[0mname\u001b[0m\u001b[0;34m\u001b[0m\u001b[0;34m\u001b[0m\u001b[0m\n\u001b[0;32m----> 4\u001b[0;31m \u001b[0mcalib\u001b[0m\u001b[0;34m.\u001b[0m\u001b[0mcalibrate\u001b[0m\u001b[0;34m(\u001b[0m\u001b[0;34m)\u001b[0m\u001b[0;34m\u001b[0m\u001b[0;34m\u001b[0m\u001b[0m\n\u001b[0m\u001b[1;32m      5\u001b[0m \u001b[0mcalib\u001b[0m\u001b[0;34m.\u001b[0m\u001b[0msave\u001b[0m\u001b[0;34m(\u001b[0m\u001b[0;34m\"calibrated/\"\u001b[0m \u001b[0;34m+\u001b[0m \u001b[0mname\u001b[0m \u001b[0;34m+\u001b[0m \u001b[0;34m\".json\"\u001b[0m\u001b[0;34m,\u001b[0m \u001b[0mformat\u001b[0m\u001b[0;34m=\u001b[0m\u001b[0;34m\"json\"\u001b[0m\u001b[0;34m)\u001b[0m\u001b[0;34m\u001b[0m\u001b[0;34m\u001b[0m\u001b[0m\n",
      "\u001b[0;32m~/stereo/stereo/calibration.py\u001b[0m in \u001b[0;36mcalibrate\u001b[0;34m(self, load_images, keep_chessboard_preview_imgs)\u001b[0m\n\u001b[1;32m    231\u001b[0m         \u001b[0m_\u001b[0m\u001b[0;34m,\u001b[0m \u001b[0mleft_matrix\u001b[0m\u001b[0;34m,\u001b[0m \u001b[0mleft_dist_coeff\u001b[0m\u001b[0;34m,\u001b[0m \u001b[0mleft_rot_vec\u001b[0m\u001b[0;34m,\u001b[0m \u001b[0mleft_trans_vec\u001b[0m \u001b[0;34m=\u001b[0m\u001b[0;31m \u001b[0m\u001b[0;31m\\\u001b[0m\u001b[0;34m\u001b[0m\u001b[0;34m\u001b[0m\u001b[0m\n\u001b[1;32m    232\u001b[0m             cv.calibrateCamera(self.obj_pts, self.left_img_pts,\n\u001b[0;32m--> 233\u001b[0;31m             \u001b[0;34m(\u001b[0m\u001b[0mself\u001b[0m\u001b[0;34m.\u001b[0m\u001b[0mwidth\u001b[0m\u001b[0;34m,\u001b[0m \u001b[0mself\u001b[0m\u001b[0;34m.\u001b[0m\u001b[0mheight\u001b[0m\u001b[0;34m)\u001b[0m\u001b[0;34m,\u001b[0m \u001b[0;32mNone\u001b[0m\u001b[0;34m,\u001b[0m \u001b[0;32mNone\u001b[0m\u001b[0;34m\u001b[0m\u001b[0;34m\u001b[0m\u001b[0m\n\u001b[0m\u001b[1;32m    234\u001b[0m         )\n\u001b[1;32m    235\u001b[0m         \u001b[0mself\u001b[0m\u001b[0;34m.\u001b[0m\u001b[0mleft_matrix\u001b[0m \u001b[0;34m=\u001b[0m \u001b[0mleft_matrix\u001b[0m\u001b[0;34m\u001b[0m\u001b[0;34m\u001b[0m\u001b[0m\n",
      "\u001b[0;31merror\u001b[0m: OpenCV(4.5.0) /home/lazik/pendrive/opencv/modules/calib3d/src/calibration.cpp:3694: error: (-215:Assertion failed) nimages > 0 in function 'calibrateCameraRO'\n"
     ]
    }
   ],
   "source": [
    "name = \"2cam-csi-12cm\"\n",
    "calib = st.Calibration2Cams()\n",
    "calib.calibration_path = \"calibration-images/\" + name\n",
    "calib.calibrate()\n",
    "calib.save(\"calibrated/\" + name + \".json\", format=\"json\")"
   ]
  },
  {
   "cell_type": "code",
   "execution_count": null,
   "metadata": {},
   "outputs": [],
   "source": []
  }
 ],
 "metadata": {
  "kernelspec": {
   "display_name": "Python 3",
   "language": "python",
   "name": "python3"
  },
  "language_info": {
   "codemirror_mode": {
    "name": "ipython",
    "version": 3
   },
   "file_extension": ".py",
   "mimetype": "text/x-python",
   "name": "python",
   "nbconvert_exporter": "python",
   "pygments_lexer": "ipython3",
   "version": "3.7.6"
  }
 },
 "nbformat": 4,
 "nbformat_minor": 4
}
