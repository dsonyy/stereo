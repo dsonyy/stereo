{
 "cells": [
  {
   "cell_type": "markdown",
   "metadata": {},
   "source": [
    "# Calibration"
   ]
  },
  {
   "cell_type": "markdown",
   "metadata": {},
   "source": [
    "### Notebook preparation"
   ]
  },
  {
   "cell_type": "code",
   "execution_count": null,
   "metadata": {},
   "outputs": [],
   "source": [
    "import stereo as st\n",
    "import cv2 as cv\n",
    "import os\n",
    "import copy\n",
    "import PIL.Image\n",
    "from IPython.display import display, clear_output\n",
    "import ipywidgets"
   ]
  },
  {
   "cell_type": "code",
   "execution_count": null,
   "metadata": {},
   "outputs": [],
   "source": [
    "def save(_=None):\n",
    "    images.append(copy.deepcopy(cameras.frames))\n",
    "    clear_output()\n",
    "    create_button()\n",
    "    for frame in images[-1]:\n",
    "        size = frame.shape[1] // 4, frame.shape[0] // 4\n",
    "        display(PIL.Image.fromarray(frame).resize(size))\n",
    "    print(\"Saved images:\", len(images))\n",
    "\n",
    "def create_button():\n",
    "    button = ipywidgets.Button(description=\"Capture\")\n",
    "    button.on_click(save)\n",
    "    display(button)"
   ]
  },
  {
   "cell_type": "markdown",
   "metadata": {},
   "source": [
    "Run one of the following cell depending on what type of cameras you are using:\n",
    "\n",
    "### USB Cameras"
   ]
  },
  {
   "cell_type": "code",
   "execution_count": null,
   "metadata": {},
   "outputs": [],
   "source": [
    "cameras = st.Cameras([0, 1])\n",
    "stream = st.NStream(cameras, sep_thread=True)"
   ]
  },
  {
   "cell_type": "markdown",
   "metadata": {},
   "source": [
    "### CSI Cameras"
   ]
  },
  {
   "cell_type": "code",
   "execution_count": null,
   "metadata": {},
   "outputs": [],
   "source": [
    "cameras = st.Cameras([0, 1])\n",
    "cameras.to_csi_device()\n",
    "stream = st.NStream(cameras, sep_thread=True)"
   ]
  },
  {
   "cell_type": "markdown",
   "metadata": {},
   "source": [
    "### Start stream"
   ]
  },
  {
   "cell_type": "code",
   "execution_count": null,
   "metadata": {},
   "outputs": [],
   "source": [
    "stream.start()"
   ]
  },
  {
   "cell_type": "code",
   "execution_count": null,
   "metadata": {},
   "outputs": [],
   "source": [
    "create_button()"
   ]
  },
  {
   "cell_type": "markdown",
   "metadata": {},
   "source": [
    "### Stop stream"
   ]
  },
  {
   "cell_type": "code",
   "execution_count": null,
   "metadata": {},
   "outputs": [],
   "source": [
    "stream.stop()"
   ]
  },
  {
   "cell_type": "markdown",
   "metadata": {},
   "source": [
    "### Directories"
   ]
  },
  {
   "cell_type": "code",
   "execution_count": null,
   "metadata": {},
   "outputs": [],
   "source": [
    "PATH = \"calibration-images\"\n",
    "\n",
    "def listrec(path, level=0):\n",
    "    files = [item for item in os.listdir(path) if os.path.isfile(os.path.join(path, item))]\n",
    "    dirs = [item for item in os.listdir(path) if os.path.isdir(os.path.join(path, item))]\n",
    "    if level != 0 != len(files):\n",
    "        print(\"  \" * (level + 1), len(files), \"files\")\n",
    "    # for file in sorted(files):\n",
    "    #     print(\"  \" * level, \"-\", file)\n",
    "    for dir_ in sorted(dirs):\n",
    "        print(\"  \" * level, \"-\", dir_)\n",
    "        listrec(os.path.join(path, dir_), level + 1)\n",
    "        \n",
    "listrec(PATH)"
   ]
  },
  {
   "cell_type": "markdown",
   "metadata": {},
   "source": [
    "### Save images"
   ]
  },
  {
   "cell_type": "code",
   "execution_count": null,
   "metadata": {},
   "outputs": [],
   "source": [
    "PATH = \"calibration-images/\"\n",
    "\n",
    "path = os.path.join(PATH)\n",
    "if not os.path.isdir(path):\n",
    "    os.mkdir(path)\n",
    "for image_idx, image_set in enumerate(images):\n",
    "    for camera_idx, image in enumerate(image_set):\n",
    "        path = os.path.join(PATH, str(camera_idx))\n",
    "        if not os.path.isdir(path):\n",
    "            os.mkdir(path)\n",
    "        cv.imwrite(os.path.join(path, str(image_idx) + \".png\"), image)"
   ]
  }
 ],
 "metadata": {
  "kernelspec": {
   "display_name": "Python 3",
   "language": "python",
   "name": "python3"
  },
  "language_info": {
   "codemirror_mode": {
    "name": "ipython",
    "version": 3
   },
   "file_extension": ".py",
   "mimetype": "text/x-python",
   "name": "python",
   "nbconvert_exporter": "python",
   "pygments_lexer": "ipython3",
   "version": "3.7.6"
  }
 },
 "nbformat": 4,
 "nbformat_minor": 4
}
