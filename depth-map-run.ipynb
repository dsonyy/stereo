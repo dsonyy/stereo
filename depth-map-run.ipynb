{
 "cells": [
  {
   "cell_type": "code",
   "execution_count": 1,
   "metadata": {},
   "outputs": [],
   "source": [
    "%load_ext autoreload\n",
    "%autoreload 2\n",
    "import stereo as st\n",
    "import numpy as np\n",
    "import cv2 as cv\n",
    "import PIL.Image"
   ]
  },
  {
   "cell_type": "code",
   "execution_count": 5,
   "metadata": {},
   "outputs": [
    {
     "name": "stdout",
     "output_type": "stream",
     "text": [
      "14.10.2020 19:47:14.495 calibration INFO: Loading important calibration parameters calibrated/2cam-csi-12cm-v1.yaml\n"
     ]
    }
   ],
   "source": [
    "cameras = st.Cameras([\"test-videos/testL.mp4\", \"test-videos/testR.mp4\"], transformations=[\n",
    "    (cv.cvtColor, cv.COLOR_BGR2GRAY),\n",
    "])\n",
    "calibration = st.Calibration2Cams()\n",
    "calibration.load(\"calibrated/2cam-csi-12cm-v1.yaml\")\n",
    "stereo = st.StereoVision2Cams(calibration)\n",
    "\n",
    "stream = st.NDepthStreamExt(cameras, stereo, True, True, False)"
   ]
  },
  {
   "cell_type": "code",
   "execution_count": 6,
   "metadata": {},
   "outputs": [
    {
     "data": {
      "application/vnd.jupyter.widget-view+json": {
       "model_id": "fe40dd082bca4eeab655c8a38acdeb1d",
       "version_major": 2,
       "version_minor": 0
      },
      "text/plain": [
       "IntSlider(value=21, description='setBlockSize:\\t', layout=Layout(width='500px'), max=99, min=5, step=2, style=…"
      ]
     },
     "metadata": {},
     "output_type": "display_data"
    },
    {
     "data": {
      "application/vnd.jupyter.widget-view+json": {
       "model_id": "a4d92964c5cb4ae28ab7cf71ae8c007d",
       "version_major": 2,
       "version_minor": 0
      },
      "text/plain": [
       "IntSlider(value=4, description='setMinDisparity:\\t', layout=Layout(width='500px'), max=256, min=-8, style=Slid…"
      ]
     },
     "metadata": {},
     "output_type": "display_data"
    },
    {
     "data": {
      "application/vnd.jupyter.widget-view+json": {
       "model_id": "ed6e3af7c7424adf91e3e48949ea04a0",
       "version_major": 2,
       "version_minor": 0
      },
      "text/plain": [
       "IntSlider(value=128, description='setNumDisparities:\\t', layout=Layout(width='500px'), max=256, min=16, step=1…"
      ]
     },
     "metadata": {},
     "output_type": "display_data"
    },
    {
     "data": {
      "application/vnd.jupyter.widget-view+json": {
       "model_id": "9ca1c539c5164e9ba33e48ff4a0db617",
       "version_major": 2,
       "version_minor": 0
      },
      "text/plain": [
       "IntSlider(value=16, description='setSpeckleRange:\\t', layout=Layout(width='500px'), max=256, min=-8, style=Sli…"
      ]
     },
     "metadata": {},
     "output_type": "display_data"
    },
    {
     "data": {
      "application/vnd.jupyter.widget-view+json": {
       "model_id": "d51be6aecf1e4f7c802e20d0bfa1de9d",
       "version_major": 2,
       "version_minor": 0
      },
      "text/plain": [
       "IntSlider(value=45, description='setSpeckleWindowSize:\\t', layout=Layout(width='500px'), max=512, min=-8, styl…"
      ]
     },
     "metadata": {},
     "output_type": "display_data"
    },
    {
     "data": {
      "application/vnd.jupyter.widget-view+json": {
       "model_id": "692f449136b24287b279c18e000a0811",
       "version_major": 2,
       "version_minor": 0
      },
      "text/plain": [
       "IntSlider(value=10, description='setTextureThreshold:\\t', layout=Layout(width='500px'), max=512, style=SliderS…"
      ]
     },
     "metadata": {},
     "output_type": "display_data"
    },
    {
     "data": {
      "application/vnd.jupyter.widget-view+json": {
       "model_id": "e46fc11a2a744bcbbd767c9c5ae4fc70",
       "version_major": 2,
       "version_minor": 0
      },
      "text/plain": [
       "IntSlider(value=31, description='setPreFilterCap:\\t', layout=Layout(width='500px'), max=63, min=1, style=Slide…"
      ]
     },
     "metadata": {},
     "output_type": "display_data"
    },
    {
     "data": {
      "application/vnd.jupyter.widget-view+json": {
       "model_id": "bd820bba7f3249a0aa19a79349bb33df",
       "version_major": 2,
       "version_minor": 0
      },
      "text/plain": [
       "IntSlider(value=9, description='setPreFilterSize:\\t', layout=Layout(width='500px'), max=255, min=5, step=2, st…"
      ]
     },
     "metadata": {},
     "output_type": "display_data"
    },
    {
     "data": {
      "application/vnd.jupyter.widget-view+json": {
       "model_id": "dc5dfb688c1f48828f665028bac031d5",
       "version_major": 2,
       "version_minor": 0
      },
      "text/plain": [
       "Dropdown(description='setPreFilterType:\\t', index=1, layout=Layout(width='500px'), options=(('PREFILTER_NORMAL…"
      ]
     },
     "metadata": {},
     "output_type": "display_data"
    },
    {
     "data": {
      "application/vnd.jupyter.widget-view+json": {
       "model_id": "1b355c02629e485a96af50497ea05148",
       "version_major": 2,
       "version_minor": 0
      },
      "text/plain": [
       "IntSlider(value=0, description='setSmallerBlockSize:\\t', layout=Layout(width='500px'), max=255, min=-1005, ste…"
      ]
     },
     "metadata": {},
     "output_type": "display_data"
    },
    {
     "data": {
      "application/vnd.jupyter.widget-view+json": {
       "model_id": "17d22eb740f6439a867ccf06ec23b256",
       "version_major": 2,
       "version_minor": 0
      },
      "text/plain": [
       "IntSlider(value=15, description='setUniquenessRatio:\\t', layout=Layout(width='500px'), max=128, step=2, style=…"
      ]
     },
     "metadata": {},
     "output_type": "display_data"
    },
    {
     "name": "stdout",
     "output_type": "stream",
     "text": [
      "14.10.2020 19:47:15.161 stream INFO: Starting depth-map jupyter notebook stream.\n"
     ]
    },
    {
     "data": {
      "application/vnd.jupyter.widget-view+json": {
       "model_id": "",
       "version_major": 2,
       "version_minor": 0
      },
      "text/plain": [
       "Image(value=b'', width='720')"
      ]
     },
     "metadata": {},
     "output_type": "display_data"
    },
    {
     "data": {
      "application/vnd.jupyter.widget-view+json": {
       "model_id": "",
       "version_major": 2,
       "version_minor": 0
      },
      "text/plain": [
       "Image(value=b'', width='720')"
      ]
     },
     "metadata": {},
     "output_type": "display_data"
    },
    {
     "data": {
      "application/vnd.jupyter.widget-view+json": {
       "model_id": "1b0e6b4177604c8a8de28106a872949d",
       "version_major": 2,
       "version_minor": 0
      },
      "text/plain": [
       "Label(value='')"
      ]
     },
     "metadata": {},
     "output_type": "display_data"
    }
   ],
   "source": [
    "stream.start()"
   ]
  },
  {
   "cell_type": "code",
   "execution_count": 7,
   "metadata": {},
   "outputs": [
    {
     "data": {
      "text/plain": [
       "{'setBlockSize': 21,\n",
       " 'setMinDisparity': 4,\n",
       " 'setNumDisparities': 16,\n",
       " 'setSpeckleRange': 16,\n",
       " 'setSpeckleWindowSize': 45,\n",
       " 'setTextureThreshold': 10,\n",
       " 'setPreFilterCap': 31,\n",
       " 'setPreFilterSize': 9,\n",
       " 'setPreFilterType': 1,\n",
       " 'setSmallerBlockSize': 0,\n",
       " 'setUniquenessRatio': 15}"
      ]
     },
     "execution_count": 7,
     "metadata": {},
     "output_type": "execute_result"
    },
    {
     "name": "stdout",
     "output_type": "stream",
     "text": [
      "14.10.2020 19:47:18.868 stream INFO: Closing jupyter notebook stream.\n"
     ]
    }
   ],
   "source": [
    "stream.stop()"
   ]
  },
  {
   "cell_type": "code",
   "execution_count": null,
   "metadata": {},
   "outputs": [],
   "source": []
  }
 ],
 "metadata": {
  "kernelspec": {
   "display_name": "Python 3",
   "language": "python",
   "name": "python3"
  },
  "language_info": {
   "codemirror_mode": {
    "name": "ipython",
    "version": 3
   },
   "file_extension": ".py",
   "mimetype": "text/x-python",
   "name": "python",
   "nbconvert_exporter": "python",
   "pygments_lexer": "ipython3",
   "version": "3.7.6"
  }
 },
 "nbformat": 4,
 "nbformat_minor": 4
}
