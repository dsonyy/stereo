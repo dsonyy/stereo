{
 "cells": [
  {
   "cell_type": "code",
   "execution_count": 11,
   "metadata": {},
   "outputs": [
    {
     "name": "stdout",
     "output_type": "stream",
     "text": [
      "The autoreload extension is already loaded. To reload it, use:\n",
      "  %reload_ext autoreload\n"
     ]
    }
   ],
   "source": [
    "%load_ext autoreload\n",
    "%autoreload 2\n",
    "import stereo as st\n",
    "import numpy as np\n",
    "import cv2 as cv\n",
    "import PIL.Image"
   ]
  },
  {
   "cell_type": "markdown",
   "metadata": {},
   "source": [
    "## USB"
   ]
  },
  {
   "cell_type": "code",
   "execution_count": 30,
   "metadata": {},
   "outputs": [
    {
     "name": "stdout",
     "output_type": "stream",
     "text": [
      "16.10.2020 00:17:48.995 calibration INFO: Loading important calibration parameters calibrated/2cam-usb-12cm-v1.yaml\n"
     ]
    }
   ],
   "source": [
    "kernel = np.ones((20, 20), dtype=np.uint8)\n",
    "\n",
    "cameras = st.Cameras([0, 1], size=(1280, 1024), transformations=[\n",
    "    (cv.cvtColor, cv.COLOR_BGR2GRAY),\n",
    "    (cv.GaussianBlur, (11, 11), 100),\n",
    "    # (cv.dilate, kernel)\n",
    "])\n",
    "calibration = st.Calibration2Cams()\n",
    "calibration.load(\"calibrated/2cam-usb-12cm-v1.yaml\")\n",
    "stereo = st.StereoVision2Cams(calibration)\n",
    "\n",
    "stream = st.NDepthStreamExt(cameras, stereo, True, True, True)"
   ]
  },
  {
   "cell_type": "code",
   "execution_count": 31,
   "metadata": {
    "scrolled": false
   },
   "outputs": [
    {
     "data": {
      "application/vnd.jupyter.widget-view+json": {
       "model_id": "8440e8702cc84973b5647fb756513b2c",
       "version_major": 2,
       "version_minor": 0
      },
      "text/plain": [
       "IntSlider(value=21, description='setBlockSize:\\t', layout=Layout(width='500px'), max=99, min=5, step=2, style=…"
      ]
     },
     "metadata": {},
     "output_type": "display_data"
    },
    {
     "data": {
      "application/vnd.jupyter.widget-view+json": {
       "model_id": "6e32c346c86a42e287b8aa9d0170bbba",
       "version_major": 2,
       "version_minor": 0
      },
      "text/plain": [
       "IntSlider(value=4, description='setMinDisparity:\\t', layout=Layout(width='500px'), max=256, min=-8, style=Slid…"
      ]
     },
     "metadata": {},
     "output_type": "display_data"
    },
    {
     "data": {
      "application/vnd.jupyter.widget-view+json": {
       "model_id": "70a8fc5bff6341b68ded3b6fd49361ef",
       "version_major": 2,
       "version_minor": 0
      },
      "text/plain": [
       "IntSlider(value=128, description='setNumDisparities:\\t', layout=Layout(width='500px'), max=256, min=16, step=1…"
      ]
     },
     "metadata": {},
     "output_type": "display_data"
    },
    {
     "data": {
      "application/vnd.jupyter.widget-view+json": {
       "model_id": "a378ff8edaf64b9ca44cfe1bd228b97d",
       "version_major": 2,
       "version_minor": 0
      },
      "text/plain": [
       "IntSlider(value=16, description='setSpeckleRange:\\t', layout=Layout(width='500px'), max=256, min=-8, style=Sli…"
      ]
     },
     "metadata": {},
     "output_type": "display_data"
    },
    {
     "data": {
      "application/vnd.jupyter.widget-view+json": {
       "model_id": "ba512e6771ab47a7810030e7c9d939da",
       "version_major": 2,
       "version_minor": 0
      },
      "text/plain": [
       "IntSlider(value=45, description='setSpeckleWindowSize:\\t', layout=Layout(width='500px'), max=512, min=-8, styl…"
      ]
     },
     "metadata": {},
     "output_type": "display_data"
    },
    {
     "data": {
      "application/vnd.jupyter.widget-view+json": {
       "model_id": "eb9a5e371cec40d6904afd79daccd590",
       "version_major": 2,
       "version_minor": 0
      },
      "text/plain": [
       "IntSlider(value=10, description='setTextureThreshold:\\t', layout=Layout(width='500px'), max=512, style=SliderS…"
      ]
     },
     "metadata": {},
     "output_type": "display_data"
    },
    {
     "data": {
      "application/vnd.jupyter.widget-view+json": {
       "model_id": "66d63399728c47d6a8e0f898606db2cf",
       "version_major": 2,
       "version_minor": 0
      },
      "text/plain": [
       "IntSlider(value=31, description='setPreFilterCap:\\t', layout=Layout(width='500px'), max=63, min=1, style=Slide…"
      ]
     },
     "metadata": {},
     "output_type": "display_data"
    },
    {
     "data": {
      "application/vnd.jupyter.widget-view+json": {
       "model_id": "235f7e3562f54d2ca057bfcbd77743a8",
       "version_major": 2,
       "version_minor": 0
      },
      "text/plain": [
       "IntSlider(value=9, description='setPreFilterSize:\\t', layout=Layout(width='500px'), max=255, min=5, step=2, st…"
      ]
     },
     "metadata": {},
     "output_type": "display_data"
    },
    {
     "data": {
      "application/vnd.jupyter.widget-view+json": {
       "model_id": "e8b8431dae344d4d8b93d4de697c3b65",
       "version_major": 2,
       "version_minor": 0
      },
      "text/plain": [
       "Dropdown(description='setPreFilterType:\\t', index=1, layout=Layout(width='500px'), options=(('PREFILTER_NORMAL…"
      ]
     },
     "metadata": {},
     "output_type": "display_data"
    },
    {
     "data": {
      "application/vnd.jupyter.widget-view+json": {
       "model_id": "1eeb61489d0d43b6b65cd1b1f8d2d4fe",
       "version_major": 2,
       "version_minor": 0
      },
      "text/plain": [
       "IntSlider(value=0, description='setSmallerBlockSize:\\t', layout=Layout(width='500px'), max=255, min=-1005, ste…"
      ]
     },
     "metadata": {},
     "output_type": "display_data"
    },
    {
     "data": {
      "application/vnd.jupyter.widget-view+json": {
       "model_id": "0718979c2f244d8c8bd2f03fb4b4da55",
       "version_major": 2,
       "version_minor": 0
      },
      "text/plain": [
       "IntSlider(value=15, description='setUniquenessRatio:\\t', layout=Layout(width='500px'), max=128, step=2, style=…"
      ]
     },
     "metadata": {},
     "output_type": "display_data"
    },
    {
     "name": "stdout",
     "output_type": "stream",
     "text": [
      "16.10.2020 00:17:49.927 stream INFO: Starting depth-map jupyter notebook stream.\n"
     ]
    },
    {
     "data": {
      "application/vnd.jupyter.widget-view+json": {
       "model_id": "4e50e59687044fbaae5bd30122f8610b",
       "version_major": 2,
       "version_minor": 0
      },
      "text/plain": [
       "Image(value=b'', width='720')"
      ]
     },
     "metadata": {},
     "output_type": "display_data"
    },
    {
     "data": {
      "application/vnd.jupyter.widget-view+json": {
       "model_id": "a9e8baf20cc3473698acb2725766a092",
       "version_major": 2,
       "version_minor": 0
      },
      "text/plain": [
       "Image(value=b'', width='720')"
      ]
     },
     "metadata": {},
     "output_type": "display_data"
    },
    {
     "data": {
      "application/vnd.jupyter.widget-view+json": {
       "model_id": "f1638e262b5749b7a9b73a5022a416ff",
       "version_major": 2,
       "version_minor": 0
      },
      "text/plain": [
       "Label(value='')"
      ]
     },
     "metadata": {},
     "output_type": "display_data"
    },
    {
     "name": "stdout",
     "output_type": "stream",
     "text": [
      "16.10.2020 00:17:50.239 stream ERROR: Fatal exception in the main stream loop:\n",
      "Traceback (most recent call last):\n",
      "  File \"D:\\current\\stereo\\stereo\\stream.py\", line 53, in _start\n",
      "    cleanup_fn=lambda cameras: self._cleanup(cameras),\n",
      "  File \"D:\\current\\stereo\\stereo\\cameras.py\", line 211, in stream\n",
      "    \"Unable to grab image from cam\", camera\n",
      "stereo.exceptions.CameraCaptureError: ('Unable to grab image from cam', <VideoCapture 000001E62648AF70>)\n"
     ]
    }
   ],
   "source": [
    "stream.start()"
   ]
  },
  {
   "cell_type": "markdown",
   "metadata": {},
   "source": [
    "## CSI"
   ]
  },
  {
   "cell_type": "code",
   "execution_count": 2,
   "metadata": {},
   "outputs": [
    {
     "name": "stdout",
     "output_type": "stream",
     "text": [
      "15.10.2020 23:54:40.562 calibration INFO: Loading important calibration parameters calibrated/2cam-csi-12cm-v1.yaml\n"
     ]
    },
    {
     "name": "stderr",
     "output_type": "stream",
     "text": [
      "D:\\current\\stereo\\stereo\\calibration.py:327: YAMLLoadWarning: calling yaml.load() without Loader=... is deprecated, as the default Loader is unsafe. Please read https://msg.pyyaml.org/load for full details.\n",
      "  params = yaml.load(file)\n"
     ]
    }
   ],
   "source": [
    "cameras = st.Cameras([\"test-videos/testL.mp4\", \"test-videos/testR.mp4\"], transformations=[\n",
    "    (cv.cvtColor, cv.COLOR_BGR2GRAY),\n",
    "])\n",
    "calibration = st.Calibration2Cams()\n",
    "calibration.load(\"calibrated/2cam-csi-12cm-v1.yaml\")\n",
    "stereo = st.StereoVision2Cams(calibration)\n",
    "\n",
    "stream = st.NDepthStreamExt(cameras, stereo, True, True, False)"
   ]
  },
  {
   "cell_type": "code",
   "execution_count": 5,
   "metadata": {},
   "outputs": [
    {
     "data": {
      "application/vnd.jupyter.widget-view+json": {
       "model_id": "479cd83eb06649329c9b5d58a49f9db9",
       "version_major": 2,
       "version_minor": 0
      },
      "text/plain": [
       "IntSlider(value=21, description='setBlockSize:\\t', layout=Layout(width='500px'), max=99, min=5, step=2, style=…"
      ]
     },
     "metadata": {},
     "output_type": "display_data"
    },
    {
     "data": {
      "application/vnd.jupyter.widget-view+json": {
       "model_id": "1a7bdb9534d0468da4cd41c4aeec868a",
       "version_major": 2,
       "version_minor": 0
      },
      "text/plain": [
       "IntSlider(value=3, description='setMinDisparity:\\t', layout=Layout(width='500px'), max=256, min=-8, style=Slid…"
      ]
     },
     "metadata": {},
     "output_type": "display_data"
    },
    {
     "data": {
      "application/vnd.jupyter.widget-view+json": {
       "model_id": "8c8ba52bbccf4d12bf111a3ed0ab265b",
       "version_major": 2,
       "version_minor": 0
      },
      "text/plain": [
       "IntSlider(value=128, description='setNumDisparities:\\t', layout=Layout(width='500px'), max=256, min=16, step=1…"
      ]
     },
     "metadata": {},
     "output_type": "display_data"
    },
    {
     "data": {
      "application/vnd.jupyter.widget-view+json": {
       "model_id": "9965939fa47043208d971e039b062283",
       "version_major": 2,
       "version_minor": 0
      },
      "text/plain": [
       "IntSlider(value=1, description='setSpeckleRange:\\t', layout=Layout(width='500px'), max=256, min=-8, style=Slid…"
      ]
     },
     "metadata": {},
     "output_type": "display_data"
    },
    {
     "data": {
      "application/vnd.jupyter.widget-view+json": {
       "model_id": "6f8e754cc35e4a9e88820e7758cf947e",
       "version_major": 2,
       "version_minor": 0
      },
      "text/plain": [
       "IntSlider(value=18, description='setSpeckleWindowSize:\\t', layout=Layout(width='500px'), max=512, min=-8, styl…"
      ]
     },
     "metadata": {},
     "output_type": "display_data"
    },
    {
     "data": {
      "application/vnd.jupyter.widget-view+json": {
       "model_id": "001095efdd52445fbbf4434a1f52a11c",
       "version_major": 2,
       "version_minor": 0
      },
      "text/plain": [
       "IntSlider(value=31, description='setTextureThreshold:\\t', layout=Layout(width='500px'), max=512, style=SliderS…"
      ]
     },
     "metadata": {},
     "output_type": "display_data"
    },
    {
     "data": {
      "application/vnd.jupyter.widget-view+json": {
       "model_id": "958056bed673498b9edaf675c7480217",
       "version_major": 2,
       "version_minor": 0
      },
      "text/plain": [
       "IntSlider(value=9, description='setPreFilterCap:\\t', layout=Layout(width='500px'), max=63, min=1, style=Slider…"
      ]
     },
     "metadata": {},
     "output_type": "display_data"
    },
    {
     "data": {
      "application/vnd.jupyter.widget-view+json": {
       "model_id": "00a1285fdd5e43319d0e3be79b1a99e7",
       "version_major": 2,
       "version_minor": 0
      },
      "text/plain": [
       "IntSlider(value=7, description='setPreFilterSize:\\t', layout=Layout(width='500px'), max=255, min=5, step=2, st…"
      ]
     },
     "metadata": {},
     "output_type": "display_data"
    },
    {
     "data": {
      "application/vnd.jupyter.widget-view+json": {
       "model_id": "5e8fb9a2996046bdbc5effececf91f81",
       "version_major": 2,
       "version_minor": 0
      },
      "text/plain": [
       "Dropdown(description='setPreFilterType:\\t', index=1, layout=Layout(width='500px'), options=(('PREFILTER_NORMAL…"
      ]
     },
     "metadata": {},
     "output_type": "display_data"
    },
    {
     "data": {
      "application/vnd.jupyter.widget-view+json": {
       "model_id": "7e2274eecb06428f93bcef5e4daa78ab",
       "version_major": 2,
       "version_minor": 0
      },
      "text/plain": [
       "IntSlider(value=0, description='setSmallerBlockSize:\\t', layout=Layout(width='500px'), max=255, min=-1005, ste…"
      ]
     },
     "metadata": {},
     "output_type": "display_data"
    },
    {
     "data": {
      "application/vnd.jupyter.widget-view+json": {
       "model_id": "428943345fb4415883c07a8f366bc9ac",
       "version_major": 2,
       "version_minor": 0
      },
      "text/plain": [
       "IntSlider(value=10, description='setUniquenessRatio:\\t', layout=Layout(width='500px'), max=128, step=2, style=…"
      ]
     },
     "metadata": {},
     "output_type": "display_data"
    },
    {
     "name": "stdout",
     "output_type": "stream",
     "text": [
      "15.10.2020 23:58:41.263 stream INFO: Starting depth-map jupyter notebook stream.\n"
     ]
    },
    {
     "data": {
      "application/vnd.jupyter.widget-view+json": {
       "model_id": "47640492478c4ecb9fc14d10924a8a53",
       "version_major": 2,
       "version_minor": 0
      },
      "text/plain": [
       "Image(value=b'\\xff\\xd8\\xff\\xe0\\x00\\x10JFIF\\x00\\x01\\x01\\x00\\x00\\x01\\x00\\x01\\x00\\x00\\xff\\xdb\\x00C\\x00\\x08\\x06\\x0…"
      ]
     },
     "metadata": {},
     "output_type": "display_data"
    },
    {
     "data": {
      "application/vnd.jupyter.widget-view+json": {
       "model_id": "3a4fcaafc68b438fa1e3db91bbcdf49c",
       "version_major": 2,
       "version_minor": 0
      },
      "text/plain": [
       "Image(value=b'', width='720')"
      ]
     },
     "metadata": {},
     "output_type": "display_data"
    },
    {
     "data": {
      "application/vnd.jupyter.widget-view+json": {
       "model_id": "51b95df6cbe44bb8a89f705e8551f0e1",
       "version_major": 2,
       "version_minor": 0
      },
      "text/plain": [
       "Label(value='FPS:\\t18.51\\tAVG:\\t16.44')"
      ]
     },
     "metadata": {},
     "output_type": "display_data"
    },
    {
     "name": "stdout",
     "output_type": "stream",
     "text": [
      "16.10.2020 00:00:29.090 stream ERROR: Fatal exception in the main stream loop:\n",
      "Traceback (most recent call last):\n",
      "  File \"D:\\current\\stereo\\stereo\\stream.py\", line 53, in _start\n",
      "    cleanup_fn=lambda cameras: self._cleanup(cameras),\n",
      "  File \"D:\\current\\stereo\\stereo\\cameras.py\", line 211, in stream\n",
      "    \"Unable to grab image from cam\", camera\n",
      "stereo.exceptions.CameraCaptureError: ('Unable to grab image from cam', <VideoCapture 00000200F6399870>)\n"
     ]
    }
   ],
   "source": [
    "stream.start()"
   ]
  },
  {
   "cell_type": "code",
   "execution_count": 26,
   "metadata": {},
   "outputs": [
    {
     "data": {
      "text/plain": [
       "{'setBlockSize': 21,\n",
       " 'setMinDisparity': 4,\n",
       " 'setNumDisparities': 128,\n",
       " 'setSpeckleRange': 16,\n",
       " 'setSpeckleWindowSize': 45,\n",
       " 'setTextureThreshold': 10,\n",
       " 'setPreFilterCap': 31,\n",
       " 'setPreFilterSize': 9,\n",
       " 'setPreFilterType': 1,\n",
       " 'setSmallerBlockSize': 0,\n",
       " 'setUniquenessRatio': 15}"
      ]
     },
     "execution_count": 26,
     "metadata": {},
     "output_type": "execute_result"
    },
    {
     "name": "stdout",
     "output_type": "stream",
     "text": [
      "16.10.2020 00:17:09.756 stream INFO: Closing jupyter notebook stream.\n"
     ]
    }
   ],
   "source": [
    "stream.stop()"
   ]
  },
  {
   "cell_type": "code",
   "execution_count": null,
   "metadata": {},
   "outputs": [],
   "source": []
  }
 ],
 "metadata": {
  "kernelspec": {
   "display_name": "Python 3",
   "language": "python",
   "name": "python3"
  },
  "language_info": {
   "codemirror_mode": {
    "name": "ipython",
    "version": 3
   },
   "file_extension": ".py",
   "mimetype": "text/x-python",
   "name": "python",
   "nbconvert_exporter": "python",
   "pygments_lexer": "ipython3",
   "version": "3.7.6"
  }
 },
 "nbformat": 4,
 "nbformat_minor": 4
}
