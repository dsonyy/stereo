{
 "cells": [
  {
   "cell_type": "code",
   "execution_count": 1,
   "metadata": {},
   "outputs": [],
   "source": [
    "%load_ext autoreload\n",
    "%autoreload 2\n",
    "import stereo as st\n",
    "import numpy as np\n",
    "import cv2 as cv\n",
    "import PIL.Image"
   ]
  },
  {
   "cell_type": "markdown",
   "metadata": {},
   "source": [
    "## USB"
   ]
  },
  {
   "cell_type": "code",
   "execution_count": 2,
   "metadata": {},
   "outputs": [
    {
     "name": "stdout",
     "output_type": "stream",
     "text": [
      "26.10.2020 10:53:22.199 calibration INFO: Loading important calibration parameters calibrated/2cam-usb-12cm-v1.yaml\n"
     ]
    },
    {
     "name": "stderr",
     "output_type": "stream",
     "text": [
      "D:\\current\\stereo\\stereo\\calibration.py:333: YAMLLoadWarning: calling yaml.load() without Loader=... is deprecated, as the default Loader is unsafe. Please read https://msg.pyyaml.org/load for full details.\n",
      "  params = yaml.load(file)\n"
     ]
    }
   ],
   "source": [
    "kernel = np.ones((20, 20), dtype=np.uint8)\n",
    "\n",
    "cameras = st.Cameras([0, 1], size=(1280, 1024), transformations=[\n",
    "    (cv.cvtColor, cv.COLOR_BGR2GRAY),\n",
    "    # (cv.GaussianBlur, (21, 21), 100),\n",
    "    # (cv.dilate, kernel)\n",
    "])\n",
    "calibration = st.Calibration2Cams()\n",
    "calibration.load(\"calibrated/2cam-usb-12cm-v1.yaml\")\n",
    "stereo = st.StereoVision2Cams(calibration)\n",
    "\n",
    "stream = st.NDepthStreamExt(cameras, stereo, True, True, True)"
   ]
  },
  {
   "cell_type": "code",
   "execution_count": 3,
   "metadata": {
    "scrolled": false
   },
   "outputs": [
    {
     "data": {
      "application/vnd.jupyter.widget-view+json": {
       "model_id": "7c3025a3ca64436eb12e78d1a73b2c7d",
       "version_major": 2,
       "version_minor": 0
      },
      "text/plain": [
       "IntSlider(value=21, description='setBlockSize:\\t', layout=Layout(width='500px'), max=99, min=5, step=2, style=…"
      ]
     },
     "metadata": {},
     "output_type": "display_data"
    },
    {
     "data": {
      "application/vnd.jupyter.widget-view+json": {
       "model_id": "67ebc1cff2744192afca6851fe1844bc",
       "version_major": 2,
       "version_minor": 0
      },
      "text/plain": [
       "IntSlider(value=4, description='setMinDisparity:\\t', layout=Layout(width='500px'), max=256, min=-8, style=Slid…"
      ]
     },
     "metadata": {},
     "output_type": "display_data"
    },
    {
     "data": {
      "application/vnd.jupyter.widget-view+json": {
       "model_id": "d994df97ec354bdcb8702bd8142d5d12",
       "version_major": 2,
       "version_minor": 0
      },
      "text/plain": [
       "IntSlider(value=128, description='setNumDisparities:\\t', layout=Layout(width='500px'), max=256, min=16, step=1…"
      ]
     },
     "metadata": {},
     "output_type": "display_data"
    },
    {
     "data": {
      "application/vnd.jupyter.widget-view+json": {
       "model_id": "3f12eef552ad457bbfc985479c50d5e8",
       "version_major": 2,
       "version_minor": 0
      },
      "text/plain": [
       "IntSlider(value=16, description='setSpeckleRange:\\t', layout=Layout(width='500px'), max=256, min=-8, style=Sli…"
      ]
     },
     "metadata": {},
     "output_type": "display_data"
    },
    {
     "data": {
      "application/vnd.jupyter.widget-view+json": {
       "model_id": "8eaa72fdce934ea0b84bcf29efafc775",
       "version_major": 2,
       "version_minor": 0
      },
      "text/plain": [
       "IntSlider(value=45, description='setSpeckleWindowSize:\\t', layout=Layout(width='500px'), max=512, min=-8, styl…"
      ]
     },
     "metadata": {},
     "output_type": "display_data"
    },
    {
     "data": {
      "application/vnd.jupyter.widget-view+json": {
       "model_id": "e95c5f513fe24cd299c92e7272fa216d",
       "version_major": 2,
       "version_minor": 0
      },
      "text/plain": [
       "IntSlider(value=10, description='setTextureThreshold:\\t', layout=Layout(width='500px'), max=512, style=SliderS…"
      ]
     },
     "metadata": {},
     "output_type": "display_data"
    },
    {
     "data": {
      "application/vnd.jupyter.widget-view+json": {
       "model_id": "481e66200f46407498694846a04bf83c",
       "version_major": 2,
       "version_minor": 0
      },
      "text/plain": [
       "IntSlider(value=31, description='setPreFilterCap:\\t', layout=Layout(width='500px'), max=63, min=1, style=Slide…"
      ]
     },
     "metadata": {},
     "output_type": "display_data"
    },
    {
     "data": {
      "application/vnd.jupyter.widget-view+json": {
       "model_id": "96d3b553a5c14e76bdbd26e9ce11c3e3",
       "version_major": 2,
       "version_minor": 0
      },
      "text/plain": [
       "IntSlider(value=9, description='setPreFilterSize:\\t', layout=Layout(width='500px'), max=255, min=5, step=2, st…"
      ]
     },
     "metadata": {},
     "output_type": "display_data"
    },
    {
     "data": {
      "application/vnd.jupyter.widget-view+json": {
       "model_id": "7b8b36940fda46a58eb43c28542ff0ea",
       "version_major": 2,
       "version_minor": 0
      },
      "text/plain": [
       "Dropdown(description='setPreFilterType:\\t', index=1, layout=Layout(width='500px'), options=(('PREFILTER_NORMAL…"
      ]
     },
     "metadata": {},
     "output_type": "display_data"
    },
    {
     "data": {
      "application/vnd.jupyter.widget-view+json": {
       "model_id": "3c69791d6550477d8a41f6106b312fcb",
       "version_major": 2,
       "version_minor": 0
      },
      "text/plain": [
       "IntSlider(value=0, description='setSmallerBlockSize:\\t', layout=Layout(width='500px'), max=255, min=-1005, ste…"
      ]
     },
     "metadata": {},
     "output_type": "display_data"
    },
    {
     "data": {
      "application/vnd.jupyter.widget-view+json": {
       "model_id": "54a1e09ca740411db56099932810eeaf",
       "version_major": 2,
       "version_minor": 0
      },
      "text/plain": [
       "IntSlider(value=15, description='setUniquenessRatio:\\t', layout=Layout(width='500px'), max=128, step=2, style=…"
      ]
     },
     "metadata": {},
     "output_type": "display_data"
    },
    {
     "name": "stdout",
     "output_type": "stream",
     "text": [
      "26.10.2020 10:53:23.293 stream INFO: Starting depth-map jupyter notebook stream.\n"
     ]
    },
    {
     "data": {
      "application/vnd.jupyter.widget-view+json": {
       "model_id": "",
       "version_major": 2,
       "version_minor": 0
      },
      "text/plain": [
       "Image(value=b'', width='720')"
      ]
     },
     "metadata": {},
     "output_type": "display_data"
    },
    {
     "data": {
      "application/vnd.jupyter.widget-view+json": {
       "model_id": "",
       "version_major": 2,
       "version_minor": 0
      },
      "text/plain": [
       "Image(value=b'', width='720')"
      ]
     },
     "metadata": {},
     "output_type": "display_data"
    },
    {
     "data": {
      "application/vnd.jupyter.widget-view+json": {
       "model_id": "bb22c39777e647beb223384b684fdf70",
       "version_major": 2,
       "version_minor": 0
      },
      "text/plain": [
       "Label(value='')"
      ]
     },
     "metadata": {},
     "output_type": "display_data"
    }
   ],
   "source": [
    "stream.start()"
   ]
  },
  {
   "cell_type": "code",
   "execution_count": 4,
   "metadata": {},
   "outputs": [
    {
     "data": {
      "text/plain": [
       "{'setBlockSize': 21,\n",
       " 'setMinDisparity': 4,\n",
       " 'setNumDisparities': 128,\n",
       " 'setSpeckleRange': 16,\n",
       " 'setSpeckleWindowSize': 45,\n",
       " 'setTextureThreshold': 10,\n",
       " 'setPreFilterCap': 31,\n",
       " 'setPreFilterSize': 9,\n",
       " 'setPreFilterType': 1,\n",
       " 'setSmallerBlockSize': 0,\n",
       " 'setUniquenessRatio': 15}"
      ]
     },
     "execution_count": 4,
     "metadata": {},
     "output_type": "execute_result"
    },
    {
     "name": "stdout",
     "output_type": "stream",
     "text": [
      "26.10.2020 10:54:21.405 stream INFO: Closing jupyter notebook stream.\n"
     ]
    }
   ],
   "source": [
    "stream.stop()"
   ]
  },
  {
   "cell_type": "markdown",
   "metadata": {},
   "source": [
    "## CSI"
   ]
  },
  {
   "cell_type": "code",
   "execution_count": 2,
   "metadata": {},
   "outputs": [
    {
     "name": "stdout",
     "output_type": "stream",
     "text": [
      "18.10.2020 17:12:33.383 calibration INFO: Loading important calibration parameters calibrated/2cam-csi-12cm-v1.yaml\n"
     ]
    },
    {
     "name": "stderr",
     "output_type": "stream",
     "text": [
      "D:\\current\\stereo\\stereo\\calibration.py:327: YAMLLoadWarning: calling yaml.load() without Loader=... is deprecated, as the default Loader is unsafe. Please read https://msg.pyyaml.org/load for full details.\n",
      "  params = yaml.load(file)\n"
     ]
    }
   ],
   "source": [
    "cameras = st.Cameras([\"test-videos/L.mp4\", \"test-videos/R.mp4\"], transformations=[\n",
    "    (cv.GaussianBlur, (7, 7), 100),\n",
    "    (cv.cvtColor, cv.COLOR_BGR2GRAY),\n",
    "])\n",
    "calibration = st.Calibration2Cams()\n",
    "calibration.load(\"calibrated/2cam-csi-12cm-v1.yaml\")\n",
    "stereo = st.StereoVision2Cams(calibration)\n",
    "\n",
    "stream = st.NDepthStreamExt(cameras, stereo, True, True, True)"
   ]
  },
  {
   "cell_type": "code",
   "execution_count": 3,
   "metadata": {},
   "outputs": [
    {
     "data": {
      "application/vnd.jupyter.widget-view+json": {
       "model_id": "8a1d8769d88f4b23a3a7f7201f6a6954",
       "version_major": 2,
       "version_minor": 0
      },
      "text/plain": [
       "IntSlider(value=21, description='setBlockSize:\\t', layout=Layout(width='500px'), max=99, min=5, step=2, style=…"
      ]
     },
     "metadata": {},
     "output_type": "display_data"
    },
    {
     "data": {
      "application/vnd.jupyter.widget-view+json": {
       "model_id": "0d6f652765a4479385323f101c7bc507",
       "version_major": 2,
       "version_minor": 0
      },
      "text/plain": [
       "IntSlider(value=4, description='setMinDisparity:\\t', layout=Layout(width='500px'), max=256, min=-8, style=Slid…"
      ]
     },
     "metadata": {},
     "output_type": "display_data"
    },
    {
     "data": {
      "application/vnd.jupyter.widget-view+json": {
       "model_id": "83d84bce12f94a89adba7b1d9afbb301",
       "version_major": 2,
       "version_minor": 0
      },
      "text/plain": [
       "IntSlider(value=128, description='setNumDisparities:\\t', layout=Layout(width='500px'), max=256, min=16, step=1…"
      ]
     },
     "metadata": {},
     "output_type": "display_data"
    },
    {
     "data": {
      "application/vnd.jupyter.widget-view+json": {
       "model_id": "c1183e8a3a4b46d8a39a06fa9d6cdc39",
       "version_major": 2,
       "version_minor": 0
      },
      "text/plain": [
       "IntSlider(value=16, description='setSpeckleRange:\\t', layout=Layout(width='500px'), max=256, min=-8, style=Sli…"
      ]
     },
     "metadata": {},
     "output_type": "display_data"
    },
    {
     "data": {
      "application/vnd.jupyter.widget-view+json": {
       "model_id": "71f5eed90e864a42945136b0db7e232a",
       "version_major": 2,
       "version_minor": 0
      },
      "text/plain": [
       "IntSlider(value=45, description='setSpeckleWindowSize:\\t', layout=Layout(width='500px'), max=512, min=-8, styl…"
      ]
     },
     "metadata": {},
     "output_type": "display_data"
    },
    {
     "data": {
      "application/vnd.jupyter.widget-view+json": {
       "model_id": "2993741fd3e74237b4cf640a1d39988c",
       "version_major": 2,
       "version_minor": 0
      },
      "text/plain": [
       "IntSlider(value=10, description='setTextureThreshold:\\t', layout=Layout(width='500px'), max=512, style=SliderS…"
      ]
     },
     "metadata": {},
     "output_type": "display_data"
    },
    {
     "data": {
      "application/vnd.jupyter.widget-view+json": {
       "model_id": "f77431d11c6c469fac5ea89b7981f1c8",
       "version_major": 2,
       "version_minor": 0
      },
      "text/plain": [
       "IntSlider(value=31, description='setPreFilterCap:\\t', layout=Layout(width='500px'), max=63, min=1, style=Slide…"
      ]
     },
     "metadata": {},
     "output_type": "display_data"
    },
    {
     "data": {
      "application/vnd.jupyter.widget-view+json": {
       "model_id": "63046c27683849d1aeadbe63abe43025",
       "version_major": 2,
       "version_minor": 0
      },
      "text/plain": [
       "IntSlider(value=9, description='setPreFilterSize:\\t', layout=Layout(width='500px'), max=255, min=5, step=2, st…"
      ]
     },
     "metadata": {},
     "output_type": "display_data"
    },
    {
     "data": {
      "application/vnd.jupyter.widget-view+json": {
       "model_id": "855e63df03424b20a060d9ac470c1f70",
       "version_major": 2,
       "version_minor": 0
      },
      "text/plain": [
       "Dropdown(description='setPreFilterType:\\t', index=1, layout=Layout(width='500px'), options=(('PREFILTER_NORMAL…"
      ]
     },
     "metadata": {},
     "output_type": "display_data"
    },
    {
     "data": {
      "application/vnd.jupyter.widget-view+json": {
       "model_id": "43eb19209e6a44c5aa5976e92891dd14",
       "version_major": 2,
       "version_minor": 0
      },
      "text/plain": [
       "IntSlider(value=0, description='setSmallerBlockSize:\\t', layout=Layout(width='500px'), max=255, min=-1005, ste…"
      ]
     },
     "metadata": {},
     "output_type": "display_data"
    },
    {
     "data": {
      "application/vnd.jupyter.widget-view+json": {
       "model_id": "98f4f692411f44ac86f4d184e68895ec",
       "version_major": 2,
       "version_minor": 0
      },
      "text/plain": [
       "IntSlider(value=15, description='setUniquenessRatio:\\t', layout=Layout(width='500px'), max=128, step=2, style=…"
      ]
     },
     "metadata": {},
     "output_type": "display_data"
    },
    {
     "name": "stdout",
     "output_type": "stream",
     "text": [
      "18.10.2020 17:12:35.101 stream INFO: Starting depth-map jupyter notebook stream.\n"
     ]
    },
    {
     "data": {
      "application/vnd.jupyter.widget-view+json": {
       "model_id": "",
       "version_major": 2,
       "version_minor": 0
      },
      "text/plain": [
       "Image(value=b'', width='720')"
      ]
     },
     "metadata": {},
     "output_type": "display_data"
    },
    {
     "data": {
      "application/vnd.jupyter.widget-view+json": {
       "model_id": "",
       "version_major": 2,
       "version_minor": 0
      },
      "text/plain": [
       "Image(value=b'', width='720')"
      ]
     },
     "metadata": {},
     "output_type": "display_data"
    },
    {
     "data": {
      "application/vnd.jupyter.widget-view+json": {
       "model_id": "de560bd830eb4e6ab17389cffc68691e",
       "version_major": 2,
       "version_minor": 0
      },
      "text/plain": [
       "Label(value='')"
      ]
     },
     "metadata": {},
     "output_type": "display_data"
    }
   ],
   "source": [
    "stream.start()"
   ]
  },
  {
   "cell_type": "code",
   "execution_count": 4,
   "metadata": {},
   "outputs": [
    {
     "data": {
      "text/plain": [
       "{'setBlockSize': 25,\n",
       " 'setMinDisparity': 8,\n",
       " 'setNumDisparities': 128,\n",
       " 'setSpeckleRange': 16,\n",
       " 'setSpeckleWindowSize': 45,\n",
       " 'setTextureThreshold': 10,\n",
       " 'setPreFilterCap': 31,\n",
       " 'setPreFilterSize': 9,\n",
       " 'setPreFilterType': 1,\n",
       " 'setSmallerBlockSize': 0,\n",
       " 'setUniquenessRatio': 15}"
      ]
     },
     "execution_count": 4,
     "metadata": {},
     "output_type": "execute_result"
    },
    {
     "name": "stdout",
     "output_type": "stream",
     "text": [
      "18.10.2020 17:13:02.522 stream INFO: Closing jupyter notebook stream.\n"
     ]
    }
   ],
   "source": [
    "stream.stop()"
   ]
  },
  {
   "cell_type": "markdown",
   "metadata": {},
   "source": [
    "## Two images"
   ]
  },
  {
   "cell_type": "code",
   "execution_count": 48,
   "metadata": {
    "scrolled": false
   },
   "outputs": [
    {
     "name": "stdout",
     "output_type": "stream",
     "text": [
      "27.10.2020 00:05:26.279 calibration INFO: Loading important calibration parameters calibrated/2cam-usb-12cm-v1.yaml\n"
     ]
    }
   ],
   "source": [
    "calibration = st.Calibration2Cams()\n",
    "calibration.load(\"calibrated/2cam-usb-12cm-v1.yaml\")\n",
    "stereo = st.StereoVision2Cams(calibration)\n",
    "\n",
    "stereo.left = cv.imread(\"test-images/left/ksiazki.jpg\")\n",
    "stereo.left = cv.cvtColor(stereo.left, cv.COLOR_BGR2GRAY)\n",
    "stereo.right = cv.imread(\"test-images/right/ksiazki.jpg\")\n",
    "stereo.right = cv.cvtColor(stereo.right, cv.COLOR_BGR2GRAY)\n",
    "\n",
    "stereo.stereo.setBlockSize(21)\n",
    "stereo.stereo.setMinDisparity(4)\n",
    "stereo.stereo.setNumDisparities(128)\n",
    "stereo.stereo.setSpeckleRange(16)\n",
    "stereo.stereo.setSpeckleWindowSize(45)\n",
    "stereo.stereo.setTextureThreshold(10)\n",
    "stereo.stereo.setPreFilterCap(31)\n",
    "stereo.stereo.setPreFilterSize(9)\n",
    "stereo.stereo.setPreFilterType(0)\n",
    "stereo.stereo.setSmallerBlockSize(0)\n",
    "stereo.stereo.setUniquenessRatio(15)\n",
    "\n",
    "stereo.calculate_depth()\n",
    "stereo.depth = ((stereo.depth - 48) / 2048 * 255).astype(np.uint8)\n",
    "cv.imshow(\"depth\", stereo.depth)\n",
    "cv.waitKey(0)\n",
    "cv.destroyAllWindows()\n",
    "# stereo.depth = cv.applyColorMap(stereo.depth, cv.COLORMAP_JET)\n",
    "# stereo.depth = cv.cvtColor(stereo.depth, cv.COLOR_BGR2RGB)\n",
    "#display(PIL.Image.fromarray(stereo.depth))"
   ]
  },
  {
   "cell_type": "code",
   "execution_count": 44,
   "metadata": {},
   "outputs": [
    {
     "data": {
      "text/plain": [
       "0"
      ]
     },
     "execution_count": 44,
     "metadata": {},
     "output_type": "execute_result"
    }
   ],
   "source": []
  },
  {
   "cell_type": "code",
   "execution_count": null,
   "metadata": {},
   "outputs": [],
   "source": []
  }
 ],
 "metadata": {
  "kernelspec": {
   "display_name": "Python 3",
   "language": "python",
   "name": "python3"
  },
  "language_info": {
   "codemirror_mode": {
    "name": "ipython",
    "version": 3
   },
   "file_extension": ".py",
   "mimetype": "text/x-python",
   "name": "python",
   "nbconvert_exporter": "python",
   "pygments_lexer": "ipython3",
   "version": "3.7.6"
  }
 },
 "nbformat": 4,
 "nbformat_minor": 4
}
