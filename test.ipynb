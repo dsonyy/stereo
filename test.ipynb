{
 "metadata": {
  "language_info": {
   "codemirror_mode": {
    "name": "ipython",
    "version": 3
   },
   "file_extension": ".py",
   "mimetype": "text/x-python",
   "name": "python",
   "nbconvert_exporter": "python",
   "pygments_lexer": "ipython3",
   "version": "3.7.6-final"
  },
  "orig_nbformat": 2,
  "kernelspec": {
   "name": "Python 3.7.6 64-bit ('base': conda)",
   "display_name": "Python 3.7.6 64-bit ('base': conda)",
   "metadata": {
    "interpreter": {
     "hash": "46405c412ff8671a49582c63cb3bd626173f42ead09fd731edd7a07175cdc911"
    }
   }
  }
 },
 "nbformat": 4,
 "nbformat_minor": 2,
 "cells": [
  {
   "cell_type": "code",
   "execution_count": 1,
   "metadata": {},
   "outputs": [],
   "source": [
    "import stereo"
   ]
  },
  {
   "cell_type": "code",
   "execution_count": 2,
   "metadata": {},
   "outputs": [
    {
     "output_type": "execute_result",
     "data": {
      "text/plain": "[(1800, &#39;GSTREAMER&#39;), (1400, &#39;MSMF&#39;), (700, &#39;DSHOW&#39;)]"
     },
     "metadata": {},
     "execution_count": 2
    }
   ],
   "source": [
    "stereo.camera.list_backends()"
   ]
  },
  {
   "cell_type": "code",
   "execution_count": 5,
   "metadata": {
    "tags": []
   },
   "outputs": [
    {
     "output_type": "execute_result",
     "data": {
      "text/plain": "array([[119, 119, 119, ..., 124, 123, 121],\n       [119, 119, 118, ..., 122, 121, 119],\n       [115, 117, 120, ..., 122, 123, 119],\n       ...,\n       [  2,   1,   1, ...,   6,   6,   6],\n       [  2,   1,   1, ...,   6,   6,   7],\n       [  2,   2,   2, ...,   6,   6,   7]], dtype=uint8)"
     },
     "metadata": {},
     "execution_count": 5
    }
   ],
   "source": [
    "stereo.camera.capture_gray((0))"
   ]
  },
  {
   "cell_type": "code",
   "execution_count": null,
   "metadata": {},
   "outputs": [],
   "source": []
  }
 ]
}